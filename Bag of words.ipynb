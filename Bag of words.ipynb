{
 "cells": [
  {
   "cell_type": "markdown",
   "metadata": {},
   "source": [
    "[다크 프로그래머](http://darkpgmr.tistory.com/125)  \n",
    "아래 내용은 상위 링크를 정리한것"
   ]
  },
  {
   "cell_type": "markdown",
   "metadata": {},
   "source": [
    "# Bag of words"
   ]
  },
  {
   "cell_type": "markdown",
   "metadata": {},
   "source": [
    "## 1. Bag of Words 기법  \n",
    "  \n",
    "원래 Bag of Words 기법은 문서(document)를 자동으로 분류하기 위한 방법중 하나로서,  \n",
    "글에 포함된 단어(word)들의 분포를 보고 이 문서가 어떤 종류의 문서인지를 판단하는 기법을 지칭한다.  \n",
    "예를 들어, 어떤 문서에서  \n",
    "* '환율', '주가', '금리' 등의 단어가 많이 나온다면 이 문서는 경제학에 관련된 문서로 분류하고,  \n",
    "* '역광', '노출', '구도' 등의 단어가 많다면 사진학에 대한 문서로 분류하는 방식이다."
   ]
  },
  {
   "cell_type": "markdown",
   "metadata": {},
   "source": [
    "영상처리, 컴퓨터 비전 쪽에서는 Bag of Words 기법을 주로 이미지 분류(image categorization)하거나,  \n",
    "검색(image retrieval)하기 위한 목적으로 사용하였는데, 최근에는 물체나 씬(scene)을 인식하는 용도로 폭넓게 활용되고 있다.  \n",
    "![Bag of Words](http://cfile2.uf.tistory.com/image/253363395302B4A60F8F60)  \n",
    "<그림 1> 그림출처:[Recognizing and Learning Object Categories](http://people.csail.mit.edu/torralba/shortCourseRLOC/index.html)(ICCV 2005 short course)"
   ]
  },
  {
   "cell_type": "markdown",
   "metadata": {},
   "source": [
    "영상 분류를 위한 Bag of Words 방법은 먼저 영상에서 Feature(주로 SIFT등의 local feature)들을 뽑은 후,  \n",
    "이들 Feature들을 대표할 수 있는 값(code)들로 구성되는 코드북(codebook)을 생성한다.  \n",
    "보통 코드북은 다수의 이미지들로 부터 추출한 feature들 전체에 대해 클러스터링(K-means clustering)을 수행하여 획득한 대표 feature(각 Cluster의 center)들로 구성된다.  \n",
    "이 코드북은 일종의 단어 사전(dictionary)으로 볼 수 있는데,  \n",
    "이 사전에는 가능한 모든 종류의 단어들이 포함 되어 있는 것이 아니라 물체나 이미지를 분류하는데 있어서 중요 단어들만 포함되어 있는 점이 다르다.  \n",
    "즉, 위에 종이 가방에 있는 예와 같이 눈, 코, 입, 목걸이 등 주요 특징적인 것들만 포함되어 있는것을 말한다.  \n",
    "코드북에 포함된 단어를 Codeword(코드워드)라고 부르는데,  \n",
    "코드북을 몇 개의 codeword로 구성할지는 조절 가능한 파라미터로써 영상 feature들을 몇개의 클러스터로 클러스터링 할지에 따라 결정된다. "
   ]
  }
 ],
 "metadata": {
  "kernelspec": {
   "display_name": "Python [conda env:Anaconda3]",
   "language": "python",
   "name": "conda-env-Anaconda3-py"
  },
  "language_info": {
   "codemirror_mode": {
    "name": "ipython",
    "version": 3
   },
   "file_extension": ".py",
   "mimetype": "text/x-python",
   "name": "python",
   "nbconvert_exporter": "python",
   "pygments_lexer": "ipython3",
   "version": "3.6.1"
  }
 },
 "nbformat": 4,
 "nbformat_minor": 2
}
