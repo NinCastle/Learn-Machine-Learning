{
 "cells": [
  {
   "cell_type": "markdown",
   "metadata": {},
   "source": [
    "[김태영-케라스-학습과정](https://tykimos.github.io/2017/03/25/Fit_Talk/)<br>\n",
    "아래 내용은 상기 링크를 정리한것."
   ]
  },
  {
   "cell_type": "markdown",
   "metadata": {},
   "source": [
    "# 학습과정."
   ]
  },
  {
   "cell_type": "markdown",
   "metadata": {},
   "source": [
    "같은 문제라도 푸는 방식과 학습결과가 다르다.<br>\n",
    "딥러닝 모델의 학습도 비슷.<br>\n",
    "케라스에서는 모델을 학습시킬 때 fit()함수를 사용한다.<br>\n",
    "이때 그 인자에 따라 학습 과정 및 결과가 차이가 난다.<br>"
   ]
  },
  {
   "cell_type": "markdown",
   "metadata": {},
   "source": [
    "## batch size 와 epochs"
   ]
  },
  {
   "cell_type": "markdown",
   "metadata": {},
   "source": [
    "케라스에서 만든 모델을 학습 할때 fit()function을 사용."
   ]
  },
  {
   "cell_type": "code",
   "execution_count": null,
   "metadata": {},
   "outputs": [],
   "source": [
    "model.fit(x, y, batch_size=32, epochs=10)"
   ]
  },
  {
   "cell_type": "markdown",
   "metadata": {},
   "source": [
    "주요인자는 다음과 같다.\n",
    "* x : 입력 데이터\n",
    "* y : 라벨 값\n",
    "* batch_size : 몇 개의 샘플로 가중치를 갱신할 것인지를 지정.\n",
    "* epochs : 학습 반복 횟수"
   ]
  },
  {
   "cell_type": "markdown",
   "metadata": {},
   "source": [
    "학습에 관련되 인자이므로 시험공부하는 것이 비유한다.<br>\n",
    "먼저 모의고사 1회 분을 가지고 학습을 해본다.<br>\n",
    "이 1회분은 100문항이 있고, 해답지도 제공<br>\n",
    "문제를 푼 뒤 해답지와 맞춰보면서 학습이 이루어지기 때문에 해답지가 없으면 학습이 안된다.<br>\n",
    "![문제와 해답지](http://tykimos.github.io/warehouse/2017-3-25-Dataset_and_Fit_Talk_batch0.png)\n",
    "<br>\n",
    "위의 주요인자는 다음과 같이 비유된다.<br>\n",
    "**x**<br>\n",
    "100문항의 문제들<br>\n",
    "<br>\n",
    "**y**<br>\n",
    "100문항의 답들<br>"
   ]
  },
  {
   "cell_type": "markdown",
   "metadata": {},
   "source": [
    "## batch_size(배치 사이즈)"
   ]
  },
  {
   "cell_type": "markdown",
   "metadata": {},
   "source": [
    "batch_size는 몇 문항을 풀고 해답을 맞추는지를 의미.<br>\n",
    "100문항일 때, batch size가 100이면 전체를 다풀고 난뒤 해답을 맞춰 보는것.<br>\n",
    "<br>\n",
    "**문제를 푼 뒤 해답과 맞춰봐야 학습이 일어난다. 모델의 결과값과 주어진 라벨 값과의 오차를 줄이기 위해, 'Backpropagation)'알고리즘으로 가중치가 갱신된다.**<br>\n",
    "<br>\n",
    "전체 문제를 푼뒤 해답과 맞추므로 이 때 가중치 갱신이 한번만 일어난다."
   ]
  },
  {
   "cell_type": "markdown",
   "metadata": {},
   "source": [
    "![batch_size-100](http://tykimos.github.io/warehouse/2017-3-25-Dataset_and_Fit_Talk_batch1.png)\n",
    "<br>\n",
    "batch size가 10이면 열문제씩 풀어보고 맞춰보는것.<br>\n",
    "100문항을 10문제씩 나누어서 10번 해답을 맞추므로 가중치 갱신은 10번 일어난다.<br>"
   ]
  },
  {
   "cell_type": "markdown",
   "metadata": {},
   "source": [
    "![batch size-10](http://tykimos.github.io/warehouse/2017-3-25-Dataset_and_Fit_Talk_batch2.png)"
   ]
  },
  {
   "cell_type": "markdown",
   "metadata": {},
   "source": [
    "batch size가 1이면 한 문제 풀고 해답을 맞추고 하는 방식으로 결과적으로 100번의 가중치 갱신이 일어난다.<br>\n",
    "![batch size-1](http://tykimos.github.io/warehouse/2017-3-25-Dataset_and_Fit_Talk_batch3.png)"
   ]
  },
  {
   "cell_type": "markdown",
   "metadata": {},
   "source": [
    "<br>\n",
    "100문제를 푸는것과 1문제를 풀고 해답을 맞추는 방식의 차이는?<br>\n",
    "모의고사 1회분의 100문제를 풀어보고 해답을 맞춘경우 한문제를 들리면 그와 유사한 문제를 모두 다 틀릴 가능성이있다.<br>\n",
    "그러나 모의고사 1회분의 문제중 1문제를 풀고 해답을 맞춘경우 틀린 문제에 대해 해답을 보며 학습하므로 나머지 문제를 맞출 가능성이 높아진다.<br>\n",
    "그렇다면 어떤 상황에서 batch size의 학습효과가 좋을까?<br>\n",
    "100문항을 다풀었을 경우<br>\n",
    "해답과 맞춰보려면 문제가 무엇이었는지 다 기억을 해야 맞춰보면서 학습이 된다.<br>\n",
    "즉, 기억력(용량)이 커야한다.<br>\n",
    "1문항씩 풀었을 경우<br>\n",
    "학습은 꼼꼼히 잘 되지만 시간이 많이 걸린다.<br>\n",
    "<br>\n",
    "** batch size가 작을 수록 가중치 갱신이 자주 일어난다.**\n"
   ]
  },
  {
   "cell_type": "markdown",
   "metadata": {},
   "source": [
    "### epchos(에포크)"
   ]
  },
  {
   "cell_type": "markdown",
   "metadata": {},
   "source": [
    "epchos는 모의고사 1회분을 몇 번 풀어볼까? 이다.<br>\n",
    "즉, epchos가 20이면 모의고사 1회분을 20번 푸는것이다.<br>\n",
    "사람이 같은 문제를 여러번 풀면서 점차 학습이 되듯이<br>\n",
    "모델도 같은 데이터셋으로 반복적으로 가중치를 갱신하면서 모델이 학습한다.<br>\n",
    "같은 문제라도 가중치가 다르기 때문에 다시 학습이 가능하다.<br>\n",
    "<br>\n",
    "**같은 문제라도 반복해서 풀면 학습이 일어난다.**\n",
    "<br>"
   ]
  },
  {
   "cell_type": "markdown",
   "metadata": {},
   "source": [
    "<br>\n",
    "아래 그래프에서 세로축이 100문항중 틀린 개수이고,<br>\n",
    "가로축이 모의고사 풀이 반복횟수이다.<br>\n",
    "풀이를 반복할수록 틀린 개수가 적어진다.<br>\n",
    "처음에는 틀린 개수가 빠르게 보정되지만 시간이 지날수록 보정이 더뎌진다.<br>\n",
    "사람이 학습할때 낮은 점수일때는 점수를 빠르게 보정하지만 높은 점수일때는 1, 2점 올리기 힘든것과 비슷하다.<br>\n",
    "<br>"
   ]
  },
  {
   "cell_type": "markdown",
   "metadata": {},
   "source": [
    "![epchos](http://tykimos.github.io/warehouse/2017-3-25-Dataset_and_Fit_Talk_plot1.png)\n",
    "<br>"
   ]
  },
  {
   "cell_type": "markdown",
   "metadata": {},
   "source": [
    "모의고사 1회분을 20번 푸는 것과<br>\n",
    "서로 다른 모의고사 20회분을 1번 푸는 것은 어떤 차이가 있을까?<br>\n",
    "이것은 분야에 데이터 특성에 따라 다를 것이라고 생각된다.<br>\n",
    "잡다한 문제를 많이 푸는 것보다 양질의 문제를 여러 번 푸는 것이 도움이 된다고 생각하기 때문<br>\n",
    "피아노를 배울 떄도 기본곡을 반복적으로 학습하면 다양한 악보도 쉽게 보는 반면 이고 저곡 연습하면 제대로 익히기 쉽지 않다.<br>\n",
    "이런 문제를 제외하고도 현실적으로 데이터를 구하기가 쉽기 않기 때문에 데이터셋으로 반복적으로 학습하는 것이 효율적."
   ]
  }
 ],
 "metadata": {
  "kernelspec": {
   "display_name": "Python 3",
   "language": "python",
   "name": "python3"
  },
  "language_info": {
   "codemirror_mode": {
    "name": "ipython",
    "version": 3
   },
   "file_extension": ".py",
   "mimetype": "text/x-python",
   "name": "python",
   "nbconvert_exporter": "python",
   "pygments_lexer": "ipython3",
   "version": "3.6.1"
  }
 },
 "nbformat": 4,
 "nbformat_minor": 2
}
