{
 "cells": [
  {
   "cell_type": "markdown",
   "metadata": {},
   "source": [
    "[김태영 Keras](https://tykimos.github.io/2017/08/20/Image_Input_Numerical_Prediction_Model_Recipe/)  \n",
    "하기 내용은 상기 링크를 정리한것."
   ]
  },
  {
   "cell_type": "markdown",
   "metadata": {},
   "source": [
    "# 영상입력 수치예측 모델 레시피"
   ]
  },
  {
   "cell_type": "markdown",
   "metadata": {},
   "source": [
    "영상을 입력해서 수치를 예측하는 모델들에 대해서 알아본다.  \n",
    "간단한 테스트를 위해 수치예측을 위한 영상 데이터셋 생성을 해보고, 다층퍼셉트론 및 컨볼루션 신경망 모델을 구성 및 합습 시켜본다.  \n",
    "이 모델은 고정된 지역에서 촬영된 영상으로부터 복잡도, 밀도 등을 수치화하는 문제를 풀수 있다.\n",
    "즉, 아래에 해당하는 문제들을 해결하는데 사용이 가능할 수 있다.  \n",
    "* CCTV등 촬영 영상으로 부터 미세먼지 지수 예측\n",
    "* 위성영상으로부터 녹조, 적조 등의 지수 예측\n",
    "* 태양광 패널의 먼지가 쌓여있는 정도 예측"
   ]
  },
  {
   "cell_type": "markdown",
   "metadata": {},
   "source": [
    "## 데이터셋 준비\n",
    "너비가 16, 높이가 16이고, 픽셀값을 0과 1을 가지는 영상을 만들어본다.  \n",
    "임의의 값이 주어지면, 그 값만큼 반복하여 영상 내에 1인 픽셀을 찍었습니다.  \n",
    "여기서 임의의 값이 라벨값으로 지정했다.  "
   ]
  },
  {
   "cell_type": "code",
   "execution_count": null,
   "metadata": {
    "collapsed": true
   },
   "outputs": [],
   "source": [
    "width = 16\n",
    "height = 16\n",
    "\n",
    "def generate_dataset(samples):\n",
    "    \n",
    "    ds_x = []\n",
    "    ds_y = []\n",
    "    \n",
    "    for it in range(samples):\n",
    "        num_pt = np.random.randint(0, width * height)\n",
    "        img = generate_image(num_pt)"
   ]
  }
 ],
 "metadata": {
  "kernelspec": {
   "display_name": "Python [default]",
   "language": "python",
   "name": "python3"
  },
  "language_info": {
   "codemirror_mode": {
    "name": "ipython",
    "version": 3
   },
   "file_extension": ".py",
   "mimetype": "text/x-python",
   "name": "python",
   "nbconvert_exporter": "python",
   "pygments_lexer": "ipython3",
   "version": "3.6.6"
  }
 },
 "nbformat": 4,
 "nbformat_minor": 2
}
