{
 "cells": [
  {
   "cell_type": "markdown",
   "metadata": {},
   "source": [
    "[평가 이야기](https://tykimos.github.io/2017/05/22/Evaluation_Talk/)"
   ]
  },
  {
   "cell_type": "markdown",
   "metadata": {},
   "source": [
    "# 평가 이야기"
   ]
  },
  {
   "cell_type": "markdown",
   "metadata": {},
   "source": [
    "학습된 모델을 어떻게 평가할지 알아보는 챕터.  \n",
    "모델을 평가한다고 할때는 **정확도**라는 단어를 떠올리기 쉬운데,  \n",
    "문제에 따라 단순히 정확도로만 평가하기 힘든 경우가 있다.  \n",
    "조금 더 알아보면\n",
    "* 민감도\n",
    "* 특이도\n",
    "* 재현율"
   ]
  },
  {
   "cell_type": "markdown",
   "metadata": {},
   "source": [
    "등의 용어가 나온다.\n",
    "몇가지 문제와 모델을 정의하고 여기서 적합한 평가 기준이 무엇인지 알아본다.  \n",
    "보통 평가에 관련된 내용을 보면 표와 수식이 많은 편인데,  \n",
    "손가락만 있으면 계산할 수 있도록 간단한 예제를 사용한다.  "
   ]
  },
  {
   "cell_type": "markdown",
   "metadata": {},
   "source": [
    "### 분류 하기\n",
    "아래 블럭 홀수, 짝수는 몇개 일까?\n",
    "![how many](http://tykimos.github.io/warehouse/2017-5-22-Evaluation_Talk_classification_1.jpg)"
   ]
  },
  {
   "cell_type": "markdown",
   "metadata": {},
   "source": [
    "우리가 평가할 모델이 여섯개이고, 각 모델의 결과가 다음과 같다고 가정한다.\n",
    "  \n",
    "  \n",
    "![6model](http://tykimos.github.io/warehouse/2017-5-22-Evaluation_Talk_classification_2.png)"
   ]
  },
  {
   "cell_type": "markdown",
   "metadata": {},
   "source": [
    "위의 모델중 가장 좋은 모델은? A 이다.  \n",
    "모델 A는 홀수 블록과 짝수 블록을 정확하게 구분하고 있다.  \n",
    "그렇다면 다음으로 좋은 모델은 무엇인가?  \n",
    "* B모델 : 모두 홀수로 분류\n",
    "* C모델 : 모두 짝수로 분류\n",
    "* D모델 : 홀수라고 분류한 것에 홀수만 있지만, 일부 홀수를 놓침\n",
    "* E모델 : 짝수라고 분류한 것에 짝수만 있지만, 일부 짝수를 놓침\n",
    "* F모델 : 홀수 짝수가 모두 섞여있음"
   ]
  },
  {
   "cell_type": "markdown",
   "metadata": {},
   "source": [
    "### 정확도(Accuracy)"
   ]
  },
  {
   "cell_type": "markdown",
   "metadata": {},
   "source": [
    "`정확도`란 전체 개수 중 홀수를 홀수라고 맞추고(양성을 양성으로), 짝수를 짝수라고 맞춘(음성을 음성으로)개수의 비율이다.  \n",
    "B모델은 전체 10개 중에 홀수 블록 4개만 맞추었으므로 정확도는 40%이다.  \n",
    "C모델은 전체 10개 중에 짝수 블록 6개만 맞추었으므로 정확도는 60%이다.  \n",
    "무조건 한쪽으로 분류하더라도 클래스의 분포에 따라 높게 나올 수 있다.  \n",
    "만약 남자 고등학교에서 남녀를 구분하는 모델을 개발한다고 했을 때,  \n",
    "그 모델이 무조건 남자인 결과를 내놓는다고 가정해본다.  \n",
    "실제 여자가 있더라도, 모두 남자라고 분류를 하겠지만 정확도는 90%가 넘을 것이다.  \n",
    "이러한 이유로 이 모델이 좋다고 할 수 없다.\n",
    "  \n",
    "  \n",
    "** 정확도를 평가할 때는 클래스의 분포도 꼭 확인해야 한다. **"
   ]
  },
  {
   "cell_type": "markdown",
   "metadata": {},
   "source": [
    "![accuracy](http://tykimos.github.io/warehouse/2017-5-22-Evaluation_Talk_classification_3.png)"
   ]
  },
  {
   "cell_type": "markdown",
   "metadata": {},
   "source": [
    "D모델과 E모델은 같은 정확도를 가지고 있다.  \n",
    "만약 홀수 블록(양성)은 빠짐없이 모두 골라내길 원한다면 E모델이 더 적합하다.  \n",
    "양성을 잘 골라 낼수 있는 능력을 평가하기에는 정확도가 아닌 다른기준이 필요한데 그것은 `민감도`이다."
   ]
  },
  {
   "cell_type": "markdown",
   "metadata": {},
   "source": [
    "### 민감도 = 재현률(Sensitivity)"
   ]
  },
  {
   "cell_type": "markdown",
   "metadata": {},
   "source": [
    "민감도는 양성에 얼마나 민감하냐? 라는 의미이다.  \n",
    "양성을 양성이라고 판정을 잘 할수록 이 민감도가 높다.  \n",
    "** 민감도 = 판정한 것 중 실제 양성 수 / 전체 양성 수 **"
   ]
  },
  {
   "cell_type": "markdown",
   "metadata": {},
   "source": [
    "각 모델에 대해 민감도를 계산해본다.\n",
    "  \n",
    "  \n",
    "![Sensitivity](http://tykimos.github.io/warehouse/2017-5-22-Evaluation_Talk_classification_4.png)"
   ]
  },
  {
   "cell_type": "markdown",
   "metadata": {},
   "source": [
    "다시 D모델과 E모델을 보면.  \n",
    "D모델은 홀수를 절반만 골랐으므로 50%이고,  \n",
    "E모델은 홀수를 모두 골랐으므로 100%이다.  \n",
    "주의 깊게 봐야할 곳은 B모델이다.  \n",
    "B모델은 모두 다 홀수라고 판정했기 때문에 민감도가 100%이다.  \n",
    "이 때문에 민감도만 가지고 모델을 선정하기 힘들다.  \n",
    "다시 음성을 음성으로 판정을 잘는 기준을 찾아야 하는데 이것을 `특이도`라고 한다.  "
   ]
  },
  {
   "cell_type": "markdown",
   "metadata": {},
   "source": [
    "### 특이도(Specificity)"
   ]
  }
 ],
 "metadata": {
  "kernelspec": {
   "display_name": "Python 3",
   "language": "python",
   "name": "python3"
  },
  "language_info": {
   "codemirror_mode": {
    "name": "ipython",
    "version": 3
   },
   "file_extension": ".py",
   "mimetype": "text/x-python",
   "name": "python",
   "nbconvert_exporter": "python",
   "pygments_lexer": "ipython3",
   "version": "3.6.4"
  }
 },
 "nbformat": 4,
 "nbformat_minor": 2
}
