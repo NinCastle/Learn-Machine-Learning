{
 "cells": [
  {
   "cell_type": "markdown",
   "metadata": {},
   "source": [
    "[김태영-케라스-데이터셋 이야기](https://tykimos.github.io/2017/03/25/Dataset_and_Fit_Talk/)<br>\n",
    "아래 내용은 상기 링크를 정리한것."
   ]
  },
  {
   "cell_type": "markdown",
   "metadata": {},
   "source": [
    "# 데이터셋 이야기"
   ]
  },
  {
   "cell_type": "markdown",
   "metadata": {},
   "source": [
    "## 훈련셋, 검증셋, 시험셋\n",
    "수능학생 3명이 있다고 가정. 이 3명중 누가 가장 잘볼지 예측<br>\n",
    "<br>\n",
    "내가 가지고 있는 데이터 :\n",
    "* 모의고사 5회분 : 훈련셋\n",
    "* 작년 수능 문제 : 시험셋\n",
    "* 학생 3명 : 모델 3개\n",
    "* 올해 수능 문제 : 실제 데이터(아직 시험 보지 않음)"
   ]
  },
  {
   "cell_type": "markdown",
   "metadata": {},
   "source": [
    "![data](http://tykimos.github.io/warehouse/2017-3-25-Dataset_and_Fit_Talk_3.png)"
   ]
  },
  {
   "cell_type": "markdown",
   "metadata": {},
   "source": [
    "**-학습-**  \n",
    "문제와 해답지를 같이 준 후, 문제를 푼 뒤 정답에 맞추어서 학습을 하라는 것.<br>\n",
    "  \n",
    "**-평가-**  \n",
    "문제만 주고 풀게 한뒤 정답과 오답의 점수만을 계산하는 것.<br>\n",
    "  \n",
    "이 과정에서는 학생이 풀이과정을 보지 않고 점수만 매기는 것과 동일하기 때문에 학습이 일어나지 않는다.<br>\n",
    "<br>\n",
    "<br>\n",
    "### 경우1\n",
    "올해 가장 높은 점수의 학생은 고르는 방법은?<br>\n",
    "올해 가장 높은 점수의 학생을 고르면 된다.<br>\n",
    "하지만 시험전에는 알 수 없다.<br>\n",
    "![올해](http://tykimos.github.io/warehouse/2017-3-25-Dataset_and_Fit_Talk_4.png)\n",
    "<br>"
   ]
  },
  {
   "cell_type": "markdown",
   "metadata": {},
   "source": [
    "### 경우2\n",
    "그렇다면 작년에 가장 높은 점수의 학생을 고르는 방법은?<br>\n",
    "작년의 점수를 추측하는 것은 가능하다.<br>\n",
    "그런 이유로 작년의 점수를 추측하기 위해 작년의 문제는 학생들에게 학습 시키면 안된다.<br>\n",
    "![작년](http://tykimos.github.io/warehouse/2017-3-25-Dataset_and_Fit_Talk_5.png)\n",
    "<br>"
   ]
  },
  {
   "cell_type": "markdown",
   "metadata": {},
   "source": [
    "### 경우3\n",
    "학생들이 스스로 학습상태를 파악하거나 중단하는 시점을 만드는 방법은?<br>\n",
    "이를 위해서는 검증셋이 필요<br>\n",
    "모의고사 1~4를 학습에 이용하고 모의고사 5를 검증셋으로 사용한다.<br>\n",
    "이 방식은 두 가지 효과가 있다.<br>\n",
    "* 학습방법을 바꾼 후 훈련셋으로 학습을 해보고 검증셋으로 평가한다.<br>\n",
    "검증셋으로 가장 높은 평가를 받은 학습 방법이 최적의 학습방법이라고 생각하면된다.<br>\n",
    "이러한 학습 방법을 결정하는 parameter를 Hyperpameter(하이퍼파라메터)라고 하고 최적의 학습 방법을 찾는 것을 Hyperpameter tuning(하이퍼파라메터 튜닝)이라고 한다.<br>\n",
    "<br>\n",
    "** 검증셋이 있다면 스스로 평가하면서 적절한 학습방법을 찾을 수 있다.**\n",
    "<br>"
   ]
  },
  {
   "cell_type": "markdown",
   "metadata": {},
   "source": [
    "![검증셋](http://tykimos.github.io/warehouse/2017-3-25-Dataset_and_Fit_Talk_6.png)"
   ]
  },
  {
   "cell_type": "markdown",
   "metadata": {},
   "source": [
    "<br>\n",
    "* 얼마정도 반복 학습이 좋을 지를 정하기 위해 검증셋을 이용.<br>\n",
    "훈련셋을 얼마나 반복할지를 정하는 것이 epochs(에포크)라 한다.<br>\n",
    "초기에는 epochs가 증가 될수록 검증셋의 평가 결과도 좋다.<br>\n",
    "아래 그래프에서<br>\n",
    "**세로축**이 100문항중 틀린 개수 이고, <br>\n",
    "**가로축**이 모의고사 풀이 반복횟수이다.<br>\n",
    "풀이를 반복할수록 훈련셋(모의고사 1~4회)에서 틀린 개수가 적어짐을 볼수 있다.<br>"
   ]
  },
  {
   "cell_type": "markdown",
   "metadata": {},
   "source": [
    "![epochs](http://tykimos.github.io/warehouse/2017-3-25-Dataset_and_Fit_Talk_plot2.png)"
   ]
  },
  {
   "cell_type": "markdown",
   "metadata": {},
   "source": [
    "이 상태는 아직 학습이 덜 된 상태 즉 학습을 더하면 성능이 좋아질 수 있는 상태이다.<br>\n",
    "이를 Underffting(언더피팅)이라고 한다.<br>\n",
    "평생 반복해서 학습을 할 수 없으니 중단의 시점을 파악해야 한다.<br>\n",
    "따라서, 그 기준은 무엇일까?<br>\n",
    "epochs를 계속 증가 시키면 더 이상 검증셋의 평가점수가 상승하지 않고,<br>\n",
    "오히려 오버피팅이 되어버리는 경우가 생긴다.<br>\n",
    "이 시점이 적정 반복 횟수라고 생각하고 학습을 중단한다.<br>\n",
    "이를 Early stop(조기종료)라고 한다.<br>"
   ]
  },
  {
   "cell_type": "markdown",
   "metadata": {},
   "source": [
    "<br>\n",
    "** 검증셋이 있다면 학습 중단 시점을 정할 수 있다.**<br>\n",
    "<br>\n",
    "아래 그래프에서는 11번 반복 했을때 이런 현상이 나타난다.<br>\n",
    "<br>\n",
    "![Early stop](http://tykimos.github.io/warehouse/2017-3-25-Dataset_and_Fit_Talk_plot3.png)"
   ]
  },
  {
   "cell_type": "markdown",
   "metadata": {},
   "source": [
    "### 경우4\n",
    "모의고사 5회로만 검증셋을 사용할 경우 여러 가지 문제가 발생할 수 있다.<br>\n",
    "* 모의고사 5회에서 출제가 되지 않은 분야가 있을 수 있다.<br>\n",
    "* 모의고사 5회가 작년 수능이나 올해 수능문제와 상이 할수 있다.<br>\n",
    "* 모의고사 5회가 모의고사 1~4회와 난이도 및 범위가 다를 수 있다.<br>"
   ]
  },
  {
   "cell_type": "markdown",
   "metadata": {},
   "source": [
    "이런 이유로 모의고사 5회로만 검증셋을 사용하기에는 객관적 평가가 되었다 보기 힘들다.<br>\n",
    "이때 사용하는 것이 Cross-validation(교차검증)이다.<br>\n",
    "방법은 다음과 같다.<br>\n",
    "* 모의고사 1~4회를 학습한 뒤 모의고사 5회로 평가를 수행.<br>\n",
    "* 학습된 상태를 초기화한 후 다시 모의고사 1, 2, 3, 5회를 학습한후 **4회**로 검증.<br>\n",
    "* 학습된 상태를 초기화한 후 다시 모의고사 1, 2, 4, 5회를 학습한후 **3회**로 검증.<br>\n",
    "* 학습된 상태를 초기화한 후 다시 모의고사 1, 3, 4, 5회를 학습한후 **2회**로 검증.<br>\n",
    "* 학습된 상태를 초기화환 후 다시 모의고사 2, 3, 4, 5회를 학습한후 **1회**로 검증.<br>"
   ]
  },
  {
   "cell_type": "markdown",
   "metadata": {},
   "source": [
    "5번의 검증결과를 평균 내어 이 평균값으로 성능을 정의한다.<br>\n",
    "검증결과의 분산도 의미가 있을것이다.<br>\n",
    "검증셋이 다르다고 해서 결과가 많이 차이나는 것보다 평균이 낮더라도 안정적인 결과를 내는 것이 더 좋은 모델일 수 있다.<br>\n",
    "<br>\n",
    "![Cross validation](http://tykimos.github.io/warehouse/2017-3-25-Dataset_and_Fit_Talk_7.png)\n",
    "<br>\n",
    "단 Cross validation은 계산량이 많기 떄문에 데이터수가 많지 않을 때 사용하며,<br>\n",
    "딥러닝 모델은 대량의 데이터를 사용하므로 잘 사용하지 않는다.<br>"
   ]
  },
  {
   "cell_type": "markdown",
   "metadata": {},
   "source": []
  }
 ],
 "metadata": {
  "kernelspec": {
   "display_name": "Python [default]",
   "language": "python",
   "name": "python3"
  },
  "language_info": {
   "codemirror_mode": {
    "name": "ipython",
    "version": 3
   },
   "file_extension": ".py",
   "mimetype": "text/x-python",
   "name": "python",
   "nbconvert_exporter": "python",
   "pygments_lexer": "ipython3",
   "version": "3.6.1"
  }
 },
 "nbformat": 4,
 "nbformat_minor": 2
}
