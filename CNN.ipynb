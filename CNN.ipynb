{
 "cells": [
  {
   "cell_type": "markdown",
   "metadata": {},
   "source": [
    "[CNN-1](http://docs.likejazz.com/cnn-text-classification-tf/)<br>\n",
    "[CNN-2](http://hamait.tistory.com/535)<br>\n",
    "아래 내용은 상위 링크를 정리한것."
   ]
  },
  {
   "cell_type": "markdown",
   "metadata": {},
   "source": [
    "# CNN(합성곱 신경망)"
   ]
  },
  {
   "cell_type": "markdown",
   "metadata": {},
   "source": [
    "## 선행학습\n",
    "* Perceptron(퍼셉트론)\n",
    "* Gradient Descent(경사하강법)\n",
    "* Overfitting\n",
    "* Backpropagation Algorithm(오류역전파 알고리즘)\n",
    "* [Sobel edge(소벨마스크, 외곽선 검출)](https://m.blog.naver.com/PostView.nhn?blogId=roboholic84&logNo=220482877717&proxyReferer=https%3A%2F%2Fwww.google.co.kr%2F)\n",
    "* 선형회귀/로지스틱 회귀\n",
    "* Sigmoid"
   ]
  },
  {
   "cell_type": "markdown",
   "metadata": {},
   "source": [
    "## 직관적이해\n",
    "CNN은 딥러닝의 한 종류.<br>\n",
    "<br>\n",
    "1. 2012년 세계적인 이미지 인식 경연대회(ILSVRC)에서 캐나다의 토론토 대학의 슈퍼비전이 사용한 방법 'Feature representation learning(특징표현 학습)'이 유명하다.<br>\n",
    "Featurerepresentation learning의 특징은 컴퓨터 스스로가 특징표현을 만들어 내는것이다.<br>\n",
    "<br>\n",
    "2. 구글의 이미지 자료로써 어느정도 직관적이해를 돕는다.<br>\n",
    "![CNN_from_google](http://cfile22.uf.tistory.com/image/221020385709D5DA38487B)"
   ]
  },
  {
   "cell_type": "markdown",
   "metadata": {},
   "source": [
    "<br>\n",
    "아래층에서는 점이나 엣지등의 이미지에 자주 검출되는 '모양'을 인식하는것 뿐이지만,<br>\n",
    "위로 가면서 원이나 감각형의 모형을 인식할 수 있으며,<br>\n",
    "그 위로는 얼굴과 같은 형향을 얻게 되고,<br>\n",
    "새로운 이미지를 분류할때 저런 형상이 나올 확율이 높으면 = \"고양이\"라고 분류 하는것.<br>"
   ]
  },
  {
   "cell_type": "markdown",
   "metadata": {},
   "source": [
    "![CNN_from_google-2](http://cfile22.uf.tistory.com/image/240D9C385709D5DE3AE44C)"
   ]
  },
  {
   "cell_type": "markdown",
   "metadata": {},
   "source": [
    "## Convolution EX)\n",
    "![Conv1](http://cfile28.uf.tistory.com/image/2267E2405709F5F80445F3)<br>\n",
    "<br>\n",
    "위의 사진은 CONV1 레이어 이며, 아래의 사진은 CONV5 레이어이다.<br>\n",
    "AlexNet 아키텍쳐에서 고양이 이미지를 학습한 것이며, 각각의 박스는 각 필터들과 연관된 엑티베이션 맵을 보여준다.<br>\n",
    "엑티베이션은 Sparse(대부분은 0이고, 상하의 이미지에서는 검정색으로 보여진다.)이고 대부분 local이다.<br>\n",
    "<br>\n",
    "![Conv2](http://cfile30.uf.tistory.com/image/233DA6405709F5F827CB35)"
   ]
  },
  {
   "cell_type": "markdown",
   "metadata": {},
   "source": [
    "## 딥러닝에서 Convolution 이해\n",
    "2015-03-26 by [Tim Dettmers](http://timdettmers.com/author/tim-dettmers/)<br>\n",
    "<br>\n",
    "현재 Convolution은 아마도 딥러닝에서 매우 중요한 개념일것.<br>\n",
    "대부분의 기계학습에서 Convolution과 Convolution nets는 딥러닝에서 매우 중요한 위치를 차지한다.<br>\n",
    "그런데 무엇이 Convolution을 강력하게 만들었나.<br>\n",
    "어떻게 작동하는 것일까?<br>\n",
    "이런 질문에 대해 이 블로그에서 다른 컨셉들과 비교하며 설명할것이다.<br>\n",
    "컨볼루션에 대한 직관직인 이해를 할 수 있는 도움이 될것이다.<br>\n",
    "<br>\n",
    "첫번째 장에서는 누구나 Convolution과 Convolution Neural Network를 직관적으로 이해할 수 있도록 하는것이 목표.<br>\n",
    "두번쨰 장에서는 좀 더 깊숙한 개념을 설명하여 연구자나 깊이있는 이해를 하고 싶어하는 사람들에게 도움이 될것.<br>"
   ]
  },
  {
   "cell_type": "markdown",
   "metadata": {},
   "source": [
    "## Convolution이란 무엇인가?\n",
    "우리는 Convolution을 정보를 섞는것으로써 상상할 수 있다."
   ]
  }
 ],
 "metadata": {
  "kernelspec": {
   "display_name": "Python 3",
   "language": "python",
   "name": "python3"
  },
  "language_info": {
   "codemirror_mode": {
    "name": "ipython",
    "version": 3
   },
   "file_extension": ".py",
   "mimetype": "text/x-python",
   "name": "python",
   "nbconvert_exporter": "python",
   "pygments_lexer": "ipython3",
   "version": "3.6.4"
  }
 },
 "nbformat": 4,
 "nbformat_minor": 2
}
