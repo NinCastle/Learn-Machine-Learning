{
 "cells": [
  {
   "cell_type": "markdown",
   "metadata": {},
   "source": [
    "[CNN-1](http://docs.likejazz.com/cnn-text-classification-tf/)<br>\n",
    "[CNN-2](http://hamait.tistory.com/535)<br>\n",
    "아래 내용은 상위 링크를 정리한것."
   ]
  },
  {
   "cell_type": "markdown",
   "metadata": {},
   "source": [
    "# CNN(합성곱 신경망)"
   ]
  },
  {
   "cell_type": "markdown",
   "metadata": {},
   "source": [
    "## 선행학습\n",
    "* Perceptron(퍼셉트론)\n",
    "* Gradient Descent(경사하강법)\n",
    "* Overfitting\n",
    "* Backpropagation Algorithm(오류역전파 알고리즘)\n",
    "* [Sobel edge(소벨마스크, 외곽선 검출)](https://m.blog.naver.com/PostView.nhn?blogId=roboholic84&logNo=220482877717&proxyReferer=https%3A%2F%2Fwww.google.co.kr%2F)\n",
    "* 선형회귀/로지스틱 회귀\n",
    "* Sigmoid"
   ]
  },
  {
   "cell_type": "markdown",
   "metadata": {},
   "source": [
    "### sobel operator\n",
    "sobel operator는 1968년 스탠포드 인공지능 연구소에서 어윈 소벨이 고안한 가장자리 검춤 알고리즘으로써 <br>\n",
    "$3 \\times 3$크기의 행렬을 사용하여 연산을 하였을때 중심을 기준으로 각 방향의 앞뒤에 대한 값을 비교하여 변화량을 검출하는 알고리즘이다.<br>\n",
    "$3 \\times 3$크기의 행렬을 $x,\\; y$방향 별로 각각의 행렬을 가지는데 형태는 다음과 같다.<br>\n",
    "<br>\n",
    "![sobel operator](https://mblogthumb-phinf.pstatic.net/20150916_85/roboholic84_1442364979771XXm8h_PNG/filters.png?type=w2)\n",
    "<br>\n",
    "간단하게 예를 들면.\n",
    "<br>\n",
    "![sp-2](https://mblogthumb-phinf.pstatic.net/20150916_45/roboholic84_1442365297276mzDvt_PNG/chess_board-svg.png?type=w2)\n",
    "<br>\n",
    "다음과 같은 체스보드가 있을 때\n",
    "<br>\n",
    "![so-3](https://mblogthumb-phinf.pstatic.net/20150916_259/roboholic84_1442365574023SyBUg_PNG/y.png?type=w2)\n",
    "<br>\n",
    "이러한 부분의 경우 검은색 사각형과 흰색 사각형의 태두리가 가로로 생긴다.<br>\n",
    "이 경우 위의 $y$필터를 사용한다.<br>\n",
    "간단하게 예를 들면<br>\n",
    "<br>\n",
    "![so-4](https://mblogthumb-phinf.pstatic.net/20150916_59/roboholic84_1442366394683zd3Hl_PNG/33.png?type=w2)\n",
    "<br>\n",
    "$$(000,\\;000,\\;000)$$\n",
    "$$(000,\\;000,\\;000)$$\n",
    "$$(255,\\;255,\\;255)$$\n",
    "**검정색이 0이고 흰색이 255이다.**<br>\n",
    "<br>\n",
    "각 부분에 맞는 $y$축 필터의 값을 곲한 값을 모두 더하면 중심픽셀의 변화량이 나오게 된다.<br>\n",
    "<span style=\"color:red\">행렬의 곱이 아니다. 각 위치의 row값들 끼리 곱한뒤 모두 더한 값이다.</span><br>\n",
    "<br>\n",
    "$$(0 \\times 1, \\;0 \\times 2, \\;0 \\times 1)$$\n",
    "$$(0 \\times 0, \\;0 \\times 0, \\;0 \\times 0)$$\n",
    "$$(255 \\times -1, \\;255 \\times -2, \\;255 \\times -1)$$\n",
    "<br>"
   ]
  },
  {
   "cell_type": "markdown",
   "metadata": {},
   "source": [
    "최종 값은<br> \n",
    "$$ = -1020$$\n",
    "이 나온다.<br>\n",
    "그렇다면 x축의 필터를 곱하면?<br>\n",
    "$$(0 \\times -1, \\;0 \\times 0, \\;0 \\times 1)$$\n",
    "$$(0 \\times -2, \\;0 \\times 0, \\;0 \\times 2)$$\n",
    "$$(255 \\times -1, \\;255 \\times 0, \\;255 \\times 1)$$\n",
    "$$ = 0$$"
   ]
  },
  {
   "cell_type": "markdown",
   "metadata": {},
   "source": [
    "기본적인 원리를 정리하면\n",
    "** 이전값 = -1, 중간값 = 0, 다음값 = 1**\n",
    "경우<br>\n",
    "아래와 같이 연산,<br>\n",
    "이전값이 다음값과 똑같이 10일 경우,<br>\n",
    "이전값과 다음값의 차이가 없으니 $(-10) + 10 = 0$이 될 것이다.<br>\n",
    "하지만 반대로 이전값이 0이고 다음값이 10이라면?<br>\n",
    "$$0+10 = 10$$ \n",
    "이 될 것이다.<br>\n",
    "마찬가지로 이전값이 10이고 다음값이 0이라면?\n",
    "$$-10+0=-10$$\n",
    "이 될 것이다.<br>\n",
    "이렇게 각 축별로 연산을 한 뒤에는 x축 필터와 y축 필터의 절대값의 합을 구하면 최종적으로 가장자리를 인식하게 된다.<br>"
   ]
  },
  {
   "cell_type": "markdown",
   "metadata": {},
   "source": [
    "## CNN의 직관적이해\n",
    "CNN은 딥러닝의 한 종류.<br>\n",
    "<br>\n",
    "1. 2012년 세계적인 이미지 인식 경연대회(ILSVRC)에서 캐나다의 토론토 대학의 슈퍼비전이 사용한 방법 'Feature representation learning(특징표현 학습)'이 유명하다.<br>\n",
    "Featurerepresentation learning의 특징은 컴퓨터 스스로가 특징표현을 만들어 내는것이다.<br>\n",
    "<br>\n",
    "2. 구글의 이미지 자료로써 어느정도 직관적이해를 돕는다.<br>\n",
    "![CNN_from_google](http://cfile22.uf.tistory.com/image/221020385709D5DA38487B)"
   ]
  },
  {
   "cell_type": "markdown",
   "metadata": {},
   "source": [
    "<br>\n",
    "아래층에서는 점이나 엣지등의 이미지에 자주 검출되는 '모양'을 인식하는것 뿐이지만,<br>\n",
    "위로 가면서 원이나 감각형의 모형을 인식할 수 있으며,<br>\n",
    "그 위로는 얼굴과 같은 형향을 얻게 되고,<br>\n",
    "새로운 이미지를 분류할때 저런 형상이 나올 확율이 높으면 = \"고양이\"라고 분류 하는것.<br>"
   ]
  },
  {
   "cell_type": "markdown",
   "metadata": {},
   "source": [
    "![CNN_from_google-2](http://cfile22.uf.tistory.com/image/240D9C385709D5DE3AE44C)"
   ]
  },
  {
   "cell_type": "markdown",
   "metadata": {},
   "source": [
    "## Convolution EX)\n",
    "![Conv1](http://cfile28.uf.tistory.com/image/2267E2405709F5F80445F3)<br>\n",
    "<br>\n",
    "위의 사진은 CONV1 레이어 이며, 아래의 사진은 CONV5 레이어이다.<br>\n",
    "AlexNet 아키텍쳐에서 고양이 이미지를 학습한 것이며, 각각의 박스는 각 필터들과 연관된 엑티베이션 맵을 보여준다.<br>\n",
    "엑티베이션은 Sparse(대부분은 0이고, 상하의 이미지에서는 검정색으로 보여진다.)이고 대부분 local이다.<br>\n",
    "<br>\n",
    "![Conv2](http://cfile30.uf.tistory.com/image/233DA6405709F5F827CB35)"
   ]
  },
  {
   "cell_type": "markdown",
   "metadata": {},
   "source": [
    "## 딥러닝에서 Convolution 이해\n",
    "2015-03-26 by [Tim Dettmers](http://timdettmers.com/author/tim-dettmers/)<br>\n",
    "<br>\n",
    "현재 Convolution은 아마도 딥러닝에서 매우 중요한 개념일것.<br>\n",
    "대부분의 기계학습에서 Convolution과 Convolution nets는 딥러닝에서 매우 중요한 위치를 차지한다.<br>\n",
    "그런데 무엇이 Convolution을 강력하게 만들었나.<br>\n",
    "어떻게 작동하는 것일까?<br>\n",
    "이런 질문에 대해 이 블로그에서 다른 컨셉들과 비교하며 설명할것이다.<br>\n",
    "컨볼루션에 대한 직관직인 이해를 할 수 있는 도움이 될것이다.<br>\n",
    "<br>\n",
    "첫번째 장에서는 누구나 Convolution과 Convolution Neural Network를 직관적으로 이해할 수 있도록 하는것이 목표.<br>\n",
    "두번쨰 장에서는 좀 더 깊숙한 개념을 설명하여 연구자나 깊이있는 이해를 하고 싶어하는 사람들에게 도움이 될것.<br>"
   ]
  },
  {
   "cell_type": "markdown",
   "metadata": {},
   "source": [
    "## Convolution이란 무엇인가?\n",
    "우리는 Convolution을 정보를 섞는것으로써 상상할 수 있다.<br>\n",
    "<br>\n",
    "예를 들어 <br>\n",
    "2개의 양동이에 어떤 정보가 가득 차있고, 그것을 하나의 양동이에 쏟아넣는것을 상상해본다.<br>\n",
    "그리고 어떤 특정한 룰에 따라서 섞는다.<br>\n",
    "각각의 양동이는 그 자신의 레시피를 가지고 있고,<br>\n",
    "그것을 통해 어떻게 정보들이 하나의 양동이에 서로 섞이는지 알려준다.<br>\n",
    "즉, Convolution은 2개의 정보가 서로 섞이는 순서가 있는 절차이다.<br>\n",
    "(역주: 두벡터의 내적을 생각해보자)"
   ]
  }
 ],
 "metadata": {
  "kernelspec": {
   "display_name": "Python 3",
   "language": "python",
   "name": "python3"
  },
  "language_info": {
   "codemirror_mode": {
    "name": "ipython",
    "version": 3
   },
   "file_extension": ".py",
   "mimetype": "text/x-python",
   "name": "python",
   "nbconvert_exporter": "python",
   "pygments_lexer": "ipython3",
   "version": "3.6.4"
  }
 },
 "nbformat": 4,
 "nbformat_minor": 2
}
