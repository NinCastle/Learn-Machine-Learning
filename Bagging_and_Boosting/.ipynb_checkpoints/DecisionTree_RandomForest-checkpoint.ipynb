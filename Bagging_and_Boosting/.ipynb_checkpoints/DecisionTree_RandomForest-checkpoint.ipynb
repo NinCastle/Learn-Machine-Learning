{
 "cells": [
  {
   "cell_type": "markdown",
   "metadata": {},
   "source": [
    "[의사결정트리 & 랜덤 포레스트 & 부스팅 & 배깅](http://cyoungesuno.tistory.com/entry/%EB%9E%9C%EB%8D%A4%ED%8A%B8%EB%A6%AC-%EB%9E%9C%EB%8D%A4-%ED%8F%AC%EB%A0%88%EC%8A%A4%ED%8A%B8-%EB%B6%80%EC%8A%A4%ED%8C%85-%EB%B0%B0%EA%B9%85-Random-Tree-Forest)  \n",
    "[의사결정나무 Decision Tree](https://ratsgo.github.io/machine%20learning/2017/03/26/tree/)  \n",
    "하기 내용은 상기 링크를 정리한것"
   ]
  },
  {
   "cell_type": "code",
   "execution_count": null,
   "metadata": {},
   "outputs": [],
   "source": []
  }
 ],
 "metadata": {
  "kernelspec": {
   "display_name": "text3.5",
   "language": "python",
   "name": "text3.5"
  },
  "language_info": {
   "codemirror_mode": {
    "name": "ipython",
    "version": 3
   },
   "file_extension": ".py",
   "mimetype": "text/x-python",
   "name": "python",
   "nbconvert_exporter": "python",
   "pygments_lexer": "ipython3",
   "version": "3.5.5"
  }
 },
 "nbformat": 4,
 "nbformat_minor": 2
}
