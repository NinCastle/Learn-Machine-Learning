{
 "cells": [
  {
   "cell_type": "markdown",
   "metadata": {},
   "source": [
    "[ROC 커브와 AUC, 그리고 민감도와 특이도](http://pyopyo03.tistory.com/8)<br>\n",
    "[ROC의 AUC 구하기](http://adnoctum.tistory.com/121)<br>\n",
    "[ROC Curve, AUC](http://digndig.net/?p=312)<br>\n",
    "아래 내용은 위의 링크를 정리한것."
   ]
  },
  {
   "cell_type": "markdown",
   "metadata": {},
   "source": [
    "# ROC Curve(Receiver-operating characterictic Curve)\n",
    "# 와 AUC"
   ]
  },
  {
   "cell_type": "markdown",
   "metadata": {},
   "source": [
    "Classification의 한 종류.<br>\n",
    "민감도와 특이도가 어떤 관계를 가지고 있는지를 표현한 그래프"
   ]
  },
  {
   "cell_type": "code",
   "execution_count": null,
   "metadata": {},
   "outputs": [],
   "source": []
  }
 ],
 "metadata": {
  "kernelspec": {
   "display_name": "Python 3",
   "language": "python",
   "name": "python3"
  },
  "language_info": {
   "codemirror_mode": {
    "name": "ipython",
    "version": 3
   },
   "file_extension": ".py",
   "mimetype": "text/x-python",
   "name": "python",
   "nbconvert_exporter": "python",
   "pygments_lexer": "ipython3",
   "version": "3.6.4"
  }
 },
 "nbformat": 4,
 "nbformat_minor": 2
}
