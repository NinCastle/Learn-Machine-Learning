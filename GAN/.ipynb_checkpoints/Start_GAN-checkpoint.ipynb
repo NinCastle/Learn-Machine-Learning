{
 "cells": [
  {
   "cell_type": "markdown",
   "metadata": {},
   "source": [
    "[GAN 논문](https://arxiv.org/pdf/1406.2661.pdf)  \n",
    "[GAN 튜토리얼](https://arxiv.org/pdf/1701.00160.pdf)  \n",
    "[Jaejun Yoo's Playground-초짜 대학원생 입장에서 이해하는 Generative Adversarial Nets (1)](http://jaejunyoo.blogspot.com/2017/01/generative-adversarial-nets-1.html)  \n",
    "[쉽게 씌어진 GAN](https://dreamgonfly.github.io/2018/03/17/gan-explained.html)  \n",
    "[GAN(Generative Adversarial Network) 기초](https://zzsza.github.io/data/2017/12/27/gan/)   \n",
    "하기내용은 상기 링크를 정리한것."
   ]
  },
  {
   "cell_type": "markdown",
   "metadata": {},
   "source": [
    "# GAN(Generative Adversarial Nets)"
   ]
  },
  {
   "cell_type": "code",
   "execution_count": null,
   "metadata": {},
   "outputs": [],
   "source": []
  }
 ],
 "metadata": {
  "kernelspec": {
   "display_name": "text3.5",
   "language": "python",
   "name": "text3.5"
  },
  "language_info": {
   "codemirror_mode": {
    "name": "ipython",
    "version": 3
   },
   "file_extension": ".py",
   "mimetype": "text/x-python",
   "name": "python",
   "nbconvert_exporter": "python",
   "pygments_lexer": "ipython3",
   "version": "3.5.5"
  }
 },
 "nbformat": 4,
 "nbformat_minor": 2
}
