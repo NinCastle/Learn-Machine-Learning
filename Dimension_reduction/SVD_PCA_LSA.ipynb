{
 "cells": [
  {
   "cell_type": "markdown",
   "metadata": {},
   "source": [
    "[ratsgo's blog](https://ratsgo.github.io/from%20frequency%20to%20semantics/2017/04/06/pcasvdlsa/)  \n",
    "[차원축소 훑어보기 (PCA, SVD, NMF)](https://www.slideshare.net/madvirus/pca-svd)  \n",
    "[dark blog](http://darkpgmr.tistory.com/106)  \n",
    "하기 내용은 상기 링크를 정리한것.  "
   ]
  },
  {
   "cell_type": "markdown",
   "metadata": {},
   "source": [
    "# 차원축소 훑어보기(PCA, SVD, NMF)"
   ]
  },
  {
   "cell_type": "markdown",
   "metadata": {},
   "source": [
    "|   |$i_1$|$i_2$|$\\ldots$|$i_n$|\n",
    "|---|---|---|---|\n",
    "|$u_1$|0|1|$\\ldots$|0|\n",
    "|$u_2$|1|0|$\\ldots$|0|\n",
    "|$u_3$|0|0|$\\ldots$|1|\n",
    "|$\\vdots$|$\\vdots$|$\\vdots$|$\\ddots$|$\\vdots$|\n",
    "|$u_n$|$\\ldots$|$\\ldots$|$\\ldots$|0|"
   ]
  },
  {
   "cell_type": "markdown",
   "metadata": {},
   "source": [
    "## 차원축소가 필요한 이유\n",
    "* 계산 비용 축소\n",
    "* 노이즈 제거\n",
    "* 도출된 결과를 쉽게 이해\n",
    "  \n",
    "$u_1$~$u_n$ 또는 $i_1$~$i_n$간 유사도를 구하려면 너무 많은 계산이 필요하다.  \n",
    "그 이유는 0 값이 너무 많기 때문이다.  "
   ]
  },
  {
   "cell_type": "markdown",
   "metadata": {},
   "source": [
    "## 대표적인 차원축소 알고리즘\n",
    "* 주요 구성요소 분석(주성분 분석:Principal Component Analysis;PCA)\n",
    "* 특이 값 분해(Singular Value Decomposition;SVD)\n",
    "* 비음수 행렬 인수분해(Non-negative Matrix Factorization; NMF)  \n",
    "  \n",
    "    \n",
    "    \n",
    "    \n",
    "###### \"머신러닝 인 액션\"과 \"집단지성 프로그래밍\" 책참고"
   ]
  },
  {
   "cell_type": "markdown",
   "metadata": {},
   "source": [
    "## PCA(Pricipal Componet Analysis)"
   ]
  },
  {
   "cell_type": "markdown",
   "metadata": {},
   "source": [
    "* 주성분 분석(PCA)란?\n",
    "     - 데이터의 특징을 나눈다.\n",
    "* Pricipal componet analysis를 이용하면\n",
    "    - 중요한 속성 도출\n",
    "    - 데이터 압축\n",
    "    - 얼군 인식(eigenface)\n",
    "    - etc"
   ]
  }
 ],
 "metadata": {
  "kernelspec": {
   "display_name": "Python 3",
   "language": "python",
   "name": "python3"
  },
  "language_info": {
   "codemirror_mode": {
    "name": "ipython",
    "version": 3
   },
   "file_extension": ".py",
   "mimetype": "text/x-python",
   "name": "python",
   "nbconvert_exporter": "python",
   "pygments_lexer": "ipython3",
   "version": "3.6.4"
  }
 },
 "nbformat": 4,
 "nbformat_minor": 2
}
