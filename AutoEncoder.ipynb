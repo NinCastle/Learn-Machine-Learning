{
 "cells": [
  {
   "cell_type": "markdown",
   "metadata": {},
   "source": [
    "[Deep Learning : Autoencoders Fundamentals and types](https://codeburst.io/deep-learning-types-and-autoencoders-a40ee6754663)<br>\n",
    "[Autoencoder-1](http://untitledtblog.tistory.com/92)<br>\n",
    "[알기 쉬운 Variational AutoEncoder](https://www.slideshare.net/ssuser06e0c5/variational-autoencoder-76552518)<br>\n",
    "[조대협의 블로그](http://bcho.tistory.com/1197)<br>\n",
    "아래 내용은 상위 링크를 정리 한것이다."
   ]
  },
  {
   "cell_type": "markdown",
   "metadata": {},
   "source": [
    "# Autoencoder"
   ]
  },
  {
   "cell_type": "markdown",
   "metadata": {
    "collapsed": true
   },
   "source": [
    "오토 인코더는 Deep network 기반 unsupervised learning(비지도 학습) 모델 이며,  \n",
    "두개의 Neural network를 뒤집어 붙여 놓은 형태이다.  \n",
    "  \n",
    "![Deep Auto Encoder](http://cfile27.uf.tistory.com/image/99994C3359B6A17D1A513D)  \n",
    "  \n",
    "  "
   ]
  },
  {
   "cell_type": "markdown",
   "metadata": {},
   "source": [
    "앞쪽의 Neural Network가 Encoder,  \n",
    "뒤쪽의 Neural Network가 Decoder이 된다.  \n",
    "* Encoder를 이용하여 차원을 축소시킨다.  \n",
    "축소시킨 Encoder에 대한 입력 데이터의 특징을 추출하고,|\n",
    "* Decoder에서 Encoder의 결과를 가지고 Neural Network를 역으로 붙여서 데이터를 복원한다.  "
   ]
  },
  {
   "cell_type": "markdown",
   "metadata": {},
   "source": [
    "![Encoding and Decoding](http://cfile26.uf.tistory.com/image/9903933359B6A17D25347E)"
   ]
  },
  {
   "cell_type": "markdown",
   "metadata": {},
   "source": [
    "이 과정에서 입력과 출력이 최대한 같아지도록 튜닝함으로써,  \n",
    "Feature를 잘 추출 할 수 있게 하는것이 Autoencoder의 원리이다.  \n",
    "사실상 AE는 PCA와 거의 같다.  \n",
    "그러나 AE는 비선형적이고 깊다.  \n",
    "  \n",
    "비정상 거래 검출에 있어서 이를 활용하는 방법.  \n",
    "*  학습이 되지 않는 데이터의 경우,  \n",
    "Decoder에 의해 복원이 제대로 되지 않고 원본 데이터와 비교했을때 차이값이 크기 때문에,  \n",
    "정상 거래로 학습된 모델은 비정상 거래가 들어왔을때 결과 값이 입력 값보다 많이 다를것이라는 것을 가정한다.\n",
    "  \n",
    "그러면 입력값 대비 출력값이 얼마나 다르면 비정상 거래로 판단할 것인가에 대한 임계치 설정이 필요한데,  \n",
    "이는 실제 데이터를 통한 설정이나 또는 통계상의 데이터에 의존할 수 밖에 없다.  \n",
    "예를 들어\n",
    "* 전체 신용카드 거래의 0.1%가 비정상 거래라는 것을 가정하면,  \n",
    "입력 값들 중에서 출력값과 차이가 큰 순서대로 데이터를 봤을때 상위 0.1% 만을 비정상 거래로 판단한다.\n",
    "  \n",
    "또는 비지도 학습이기 때문에, 나온 데이터로 정상/비정상을 판단하기 보다는 비정상 거래일 가능성을 염두해야한다.  \n",
    "또한 그 거래들을 비정상 거래 일것이라고 예측하고 이 비정상 거래 후보에 대해서 실제 확인이나 지표에 대한 심층 분석을 통해서 비정상 거래를 판별한다.  \n",
    "  \n",
    "이러한 과정을 거쳐서 비정상 거래가 판별되면,  \n",
    "비정상 거래에 대한 데이터를 라벨링하고 이를 통해 다음 모델 학습시 임계치 값을 설정하거나 다른 지도 학습 알고리즘으로 변경하는 방법등을 고민해볼 수 있다.  "
   ]
  }
 ],
 "metadata": {
  "kernelspec": {
   "display_name": "Python [conda env:Anaconda3]",
   "language": "python",
   "name": "conda-env-Anaconda3-py"
  },
  "language_info": {
   "codemirror_mode": {
    "name": "ipython",
    "version": 3
   },
   "file_extension": ".py",
   "mimetype": "text/x-python",
   "name": "python",
   "nbconvert_exporter": "python",
   "pygments_lexer": "ipython3",
   "version": "3.6.1"
  }
 },
 "nbformat": 4,
 "nbformat_minor": 2
}
