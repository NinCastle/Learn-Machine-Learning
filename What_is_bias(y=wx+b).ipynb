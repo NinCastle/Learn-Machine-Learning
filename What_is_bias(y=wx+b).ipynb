{
 "cells": [
  {
   "cell_type": "markdown",
   "metadata": {},
   "source": [
    "[인공신경망에서 바이어스(Bias)의 역활](http://chanhyeonglee.tistory.com/5)  \n",
    "[stack overflow](https://stackoverflow.com/questions/2480650/role-of-bias-in-neural-networks)  \n",
    "하기 내용은 상기 링크를 정리한것."
   ]
  },
  {
   "cell_type": "markdown",
   "metadata": {},
   "source": [
    "# 인공신경망에서 바이어스(Bias)의 역할\n",
    "  \n",
    "바이어스는 학습에 중요한 역활을 한다.  \n",
    "바이어스를 통해 activation function를 좌우로 움직일 수 있어, 더욱 좋은 학습을 시킬수 있다. \n",
    "  \n",
    "바이어스가 없는 간단한 예를 보자.\n",
    "\n",
    "![](https://t1.daumcdn.net/cfile/tistory/267C754057C7C56E36)  \n",
    "그림 (https://t1.daumcdn.net/cfile/tistory/267C754057C7C56E36)"
   ]
  },
  {
   "cell_type": "markdown",
   "metadata": {},
   "source": [
    "하나의 입력($x$)에 가중치($W_0$)를 곱하고 activation function(예: sigmoid)를 통과 해 결과 값을 만드는 네트워크이다.$$f(W_0\\;x)$$"
   ]
  },
  {
   "cell_type": "markdown",
   "metadata": {},
   "source": [
    "여러 $W_0$값에 따라 이 네트워크를 함수로 그리면, 아래와 같은 그림이 된다.\n",
    "![](https://t1.daumcdn.net/cfile/tistory/272DE34357C7C5BC0A)\n",
    "그림(https://t1.daumcdn.net/cfile/tistory/272DE34357C7C5BC0A)"
   ]
  },
  {
   "cell_type": "markdown",
   "metadata": {},
   "source": [
    "가중치 값($W_0$)에 따라 네트워크의 가파른 정도가 설정된다.  \n",
    "하지만 $x=2$일때 결과 값이 $0$이 나오게 만드려면 $W_0$값을 변환하는 정도로 수정하는것이 거의 불가능 하다.  \n",
    "이때 **바이어스**가 있으면 해결이 가능하다.  \n",
    "**바이어스** 값을 이용하여 네트워크를 우측으로 이동시킬 수 있기 때문이다."
   ]
  },
  {
   "cell_type": "markdown",
   "metadata": {},
   "source": [
    "![](https://t1.daumcdn.net/cfile/tistory/2638044657C7C5FB0D)  \n",
    "그림(https://t1.daumcdn.net/cfile/tistory/2638044657C7C5FB0D)"
   ]
  },
  {
   "cell_type": "markdown",
   "metadata": {},
   "source": [
    "위 그림을 통해 살펴보면 $W_0$네트워크는 $sig(W_0 \\times x + W_1 + \\times 1.0)$이 되고 $W_0$값을 1로 고정했을 때, $W_1$값에 따라 다음과 같이 그래프를 그릴 수 있다.  \n",
    "\n",
    "![](https://t1.daumcdn.net/cfile/tistory/22777D3957C7C6372F)  \n",
    "그림(https://t1.daumcdn.net/cfile/tistory/22777D3957C7C6372F)"
   ]
  },
  {
   "cell_type": "markdown",
   "metadata": {},
   "source": [
    "$W_1$가 -5일때, 네트워크는 우측으로 이동하고 $x=2$일 때, 결과 값이 0인 네트워크를 만들 수 있다.  "
   ]
  }
 ],
 "metadata": {
  "kernelspec": {
   "display_name": "text3.5",
   "language": "python",
   "name": "text3.5"
  },
  "language_info": {
   "codemirror_mode": {
    "name": "ipython",
    "version": 3
   },
   "file_extension": ".py",
   "mimetype": "text/x-python",
   "name": "python",
   "nbconvert_exporter": "python",
   "pygments_lexer": "ipython3",
   "version": "3.5.5"
  }
 },
 "nbformat": 4,
 "nbformat_minor": 2
}
