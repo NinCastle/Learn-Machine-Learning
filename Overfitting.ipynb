{
 "cells": [
  {
   "cell_type": "markdown",
   "metadata": {},
   "source": [
    "[Overfitting-1](http://bluejake.tistory.com/16)<br>\n",
    "[Overfitting-2](http://sanghyukchun.github.io/59/)<br>\n",
    "[Overfitting-3](http://daeson.tistory.com/184)<br>\n",
    "[Overfitting-4](http://pythonkim.tistory.com/42)<br>\n",
    "[Overfitting-5](https://hyperdot.wordpress.com/2017/02/06/%EA%B3%BC%EC%A0%81%ED%95%A9overfitting/)<br>\n",
    "[Overfitting-6](https://m.blog.naver.com/PostView.nhn?blogId=lk3436&logNo=220469636281&proxyReferer=https%3A%2F%2Fwww.google.com%2F)<br>\n",
    "[Overfitting-7](http://umbum.tistory.com/222)<br>\n",
    "아래 내용은 위의 링크를 정리한것."
   ]
  }
 ],
 "metadata": {
  "kernelspec": {
   "display_name": "Python 3",
   "language": "python",
   "name": "python3"
  },
  "language_info": {
   "codemirror_mode": {
    "name": "ipython",
    "version": 3
   },
   "file_extension": ".py",
   "mimetype": "text/x-python",
   "name": "python",
   "nbconvert_exporter": "python",
   "pygments_lexer": "ipython3",
   "version": "3.6.4"
  }
 },
 "nbformat": 4,
 "nbformat_minor": 2
}
