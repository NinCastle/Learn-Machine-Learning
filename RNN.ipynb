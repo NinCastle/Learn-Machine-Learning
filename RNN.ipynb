{
 "cells": [
  {
   "cell_type": "markdown",
   "metadata": {},
   "source": [
    "[RNN-0](http://aikorea.org/blog/rnn-tutorial-1/)<br>\n",
    "[RNN-1](https://www.slideshare.net/ssuser5ac863/rnn-76606859)<br>\n",
    "[RNN-2(LSTM)](https://brunch.co.kr/@chris-song/9)<br>\n",
    "[RNN-3(LSTM)](https://deeplearning4j.org/kr/lstm)<br>\n",
    "[RNN-4](http://www.whydsp.org/280)<br>\n",
    "[RNN-5 슬라이드 show로 보면 좋음](http://slideplayer.com/slide/7478657/)<br>\n",
    "[NLP 란?](http://konlpy-ko.readthedocs.io/ko/v0.4.3/start/)<br>\n",
    "아래 내용은 상기 링크를 정리한 것."
   ]
  },
  {
   "cell_type": "markdown",
   "metadata": {},
   "source": [
    "keyword\n",
    "* Recurrent: occurring often or repeatedly, 되풀이 되는, 재발하는\n",
    "* Natural Language Processing(NLP, 자연어 처리): NLP는 텍스트에서 의미잇는 정보를 분석 추출하고 이해하는 일련의 기술 집합."
   ]
  },
  {
   "cell_type": "markdown",
   "metadata": {},
   "source": [
    "# Recurrent Neural Network(RNN)"
   ]
  },
  {
   "cell_type": "markdown",
   "metadata": {},
   "source": [
    "## RNN 이란?\n",
    "* 다양한 Natrual Language Processing(NLP, 자연어 처리)\n",
    "* 연속적인 데이터를(Sequential Data)처리하는데 적합\n",
    "* RNN이 Recurrent한 이유는 가중치를 sequence(시퀀스)의 모든 요소마다 적용하고, 출력 결과는 이전의 계산 결과에 영향을 받기 때문"
   ]
  },
  {
   "cell_type": "markdown",
   "metadata": {},
   "source": [
    "![RNN-1](http://slideplayer.com/7478657/24/images/11/Recurrent+Neural+Network+%28RNN%29.jpg)"
   ]
  },
  {
   "cell_type": "markdown",
   "metadata": {},
   "source": [
    "## RNN의 구조\n",
    "* RNN을 펼쳐서 생각\n",
    "예를 들어, 5개의 단어로 이루어진 문장미연, RNN에서 유닛은 한 단어당 하나의 layer로 이루어진 5-layer로 구성됨"
   ]
  },
  {
   "cell_type": "markdown",
   "metadata": {},
   "source": [
    "$x^n$: time step, $t$(=$n$) 에서 입력값(input)<br>\n",
    "$a^n$: $t$ 에서의 hidden state이며, RNN의 '메모리'에 해당하는 부분<br>\n",
    "$y^n$: $t$ 에서의 output(출력값)<br>\n",
    "$W_h,\\;W_o,\\;W_i$: 가중치 parameter 이며, 모든 time step에 대해 parameter value를 공유하고 있으므로 학습해야할 파라미터 수를 줄여줌.<br>"
   ]
  },
  {
   "cell_type": "markdown",
   "metadata": {},
   "source": [
    "### RNN 구조-Contd"
   ]
  }
 ],
 "metadata": {
  "kernelspec": {
   "display_name": "Python 3",
   "language": "python",
   "name": "python3"
  },
  "language_info": {
   "codemirror_mode": {
    "name": "ipython",
    "version": 3
   },
   "file_extension": ".py",
   "mimetype": "text/x-python",
   "name": "python",
   "nbconvert_exporter": "python",
   "pygments_lexer": "ipython3",
   "version": "3.6.1"
  }
 },
 "nbformat": 4,
 "nbformat_minor": 2
}
