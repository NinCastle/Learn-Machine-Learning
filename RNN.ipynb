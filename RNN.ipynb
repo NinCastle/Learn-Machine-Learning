{
 "cells": [
  {
   "cell_type": "markdown",
   "metadata": {},
   "source": [
    "[RNN-1](https://www.slideshare.net/ssuser5ac863/rnn-76606859)<br>\n",
    "[RNN-2(LSTM)](https://brunch.co.kr/@chris-song/9)<br>\n",
    "[RNN-3(LSTM)](https://deeplearning4j.org/kr/lstm)<br>\n",
    "[RNN-4](http://www.whydsp.org/280)<br>\n",
    "아래 내용은 상기 링크를 정리한 것."
   ]
  },
  {
   "cell_type": "markdown",
   "metadata": {},
   "source": [
    "# RNN"
   ]
  }
 ],
 "metadata": {
  "kernelspec": {
   "display_name": "Python 3",
   "language": "python",
   "name": "python3"
  },
  "language_info": {
   "codemirror_mode": {
    "name": "ipython",
    "version": 3
   },
   "file_extension": ".py",
   "mimetype": "text/x-python",
   "name": "python",
   "nbconvert_exporter": "python",
   "pygments_lexer": "ipython3",
   "version": "3.6.4"
  }
 },
 "nbformat": 4,
 "nbformat_minor": 2
}
